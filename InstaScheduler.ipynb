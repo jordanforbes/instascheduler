{
 "cells": [
  {
   "cell_type": "markdown",
   "metadata": {},
   "source": [
    "3/30/22\n",
    "8:16 AM\n",
    "\n",
    "the ultimate purpose of this app will be to become something that I can load up 7 drawings to this bot and have them all post on instagram at 12pm once per day for each drawing. They will have the same tags and I can customize the comments. \n",
    "\n",
    "first is to grab the instagram api \n",
    "\n",
    "8:27 AM\n",
    "copied the basic code from the tutorial, attempting to upload drawing to my new dummy account now:\n",
    "user: thesnakesthesnak\n",
    "pw: I'm going to upload this to github so maybe don't put this here. "
   ]
  },
  {
   "cell_type": "code",
   "execution_count": 3,
   "metadata": {},
   "outputs": [
    {
     "name": "stderr",
     "output_type": "stream",
     "text": [
      "2022-03-30 08:27:13,188 - INFO - Instabot version: 0.117.0 Started\n",
      "2022-03-30 08:27:13,188 - INFO - Instabot version: 0.117.0 Started\n",
      "2022-03-30 08:27:13,191 - INFO - Not yet logged in starting: PRE-LOGIN FLOW!\n",
      "2022-03-30 08:27:13,191 - INFO - Not yet logged in starting: PRE-LOGIN FLOW!\n",
      "2022-03-30 08:27:18,956 - ERROR - Request returns 429 error!\n",
      "2022-03-30 08:27:18,956 - ERROR - Request returns 429 error!\n",
      "2022-03-30 08:27:18,957 - WARNING - That means 'too many requests'. I'll go to sleep for 5 minutes.\n",
      "2022-03-30 08:27:18,957 - WARNING - That means 'too many requests'. I'll go to sleep for 5 minutes.\n"
     ]
    }
   ],
   "source": [
    "from instabot import Bot  \n",
    "bot = Bot() #bot is a class\n",
    "bot.login(username = \"thesnakesthesnak\", password=\"dummydummy420\")\n",
    "bot.upload_photo(\"path\", \"lifedrawing.png\",\n",
    "                 caption= \"caption\")"
   ]
  }
 ],
 "metadata": {
  "interpreter": {
   "hash": "179fbfc1336d5405ac7b706d3dc17bb7572a11647f234436ffdd773c93716b2f"
  },
  "kernelspec": {
   "display_name": "Python 3.9.11 64-bit (windows store)",
   "language": "python",
   "name": "python3"
  },
  "language_info": {
   "codemirror_mode": {
    "name": "ipython",
    "version": 3
   },
   "file_extension": ".py",
   "mimetype": "text/x-python",
   "name": "python",
   "nbconvert_exporter": "python",
   "pygments_lexer": "ipython3",
   "version": "3.9.12"
  },
  "orig_nbformat": 4
 },
 "nbformat": 4,
 "nbformat_minor": 2
}
